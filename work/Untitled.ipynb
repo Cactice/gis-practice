{
 "cells": [
  {
   "cell_type": "code",
   "execution_count": 22,
   "metadata": {},
   "outputs": [],
   "source": [
    "import math"
   ]
  },
  {
   "cell_type": "code",
   "execution_count": 1,
   "metadata": {},
   "outputs": [],
   "source": [
    "import json\n",
    "\n",
    "with open('work/cities.geojson') as json_file:\n",
    "    data = json.load(json_file)\n"
   ]
  },
  {
   "cell_type": "code",
   "execution_count": 25,
   "metadata": {},
   "outputs": [
    {
     "ename": "FileNotFoundError",
     "evalue": "[Errno 2] No such file or directory: 'work/output/fraction0.geojson'",
     "output_type": "error",
     "traceback": [
      "\u001b[0;31m---------------------------------------------------------------------------\u001b[0m",
      "\u001b[0;31mFileNotFoundError\u001b[0m                         Traceback (most recent call last)",
      "\u001b[0;32m<ipython-input-25-1845a804a221>\u001b[0m in \u001b[0;36m<module>\u001b[0;34m\u001b[0m\n\u001b[1;32m      8\u001b[0m     \u001b[0;32mfor\u001b[0m \u001b[0mfeature\u001b[0m \u001b[0;32min\u001b[0m \u001b[0mdata\u001b[0m\u001b[0;34m[\u001b[0m\u001b[0;34m'features'\u001b[0m\u001b[0;34m]\u001b[0m\u001b[0;34m[\u001b[0m\u001b[0mfraction_needed_start\u001b[0m\u001b[0;34m:\u001b[0m\u001b[0mfraction_needed_end\u001b[0m\u001b[0;34m]\u001b[0m\u001b[0;34m:\u001b[0m\u001b[0;34m\u001b[0m\u001b[0;34m\u001b[0m\u001b[0m\n\u001b[1;32m      9\u001b[0m         \u001b[0mnew\u001b[0m\u001b[0;34m[\u001b[0m\u001b[0;34m'features'\u001b[0m\u001b[0;34m]\u001b[0m\u001b[0;34m.\u001b[0m\u001b[0mappend\u001b[0m\u001b[0;34m(\u001b[0m\u001b[0mfeature\u001b[0m\u001b[0;34m)\u001b[0m\u001b[0;34m\u001b[0m\u001b[0;34m\u001b[0m\u001b[0m\n\u001b[0;32m---> 10\u001b[0;31m     \u001b[0;32mwith\u001b[0m \u001b[0mopen\u001b[0m\u001b[0;34m(\u001b[0m\u001b[0mfile_name\u001b[0m\u001b[0;34m,\u001b[0m \u001b[0;34m'w'\u001b[0m\u001b[0;34m)\u001b[0m \u001b[0;32mas\u001b[0m \u001b[0moutfile\u001b[0m\u001b[0;34m:\u001b[0m\u001b[0;34m\u001b[0m\u001b[0;34m\u001b[0m\u001b[0m\n\u001b[0m\u001b[1;32m     11\u001b[0m         \u001b[0mjson\u001b[0m\u001b[0;34m.\u001b[0m\u001b[0mdump\u001b[0m\u001b[0;34m(\u001b[0m\u001b[0mnew\u001b[0m\u001b[0;34m,\u001b[0m \u001b[0moutfile\u001b[0m\u001b[0;34m)\u001b[0m\u001b[0;34m\u001b[0m\u001b[0;34m\u001b[0m\u001b[0m\n",
      "\u001b[0;31mFileNotFoundError\u001b[0m: [Errno 2] No such file or directory: 'work/output/fraction0.geojson'"
     ]
    }
   ],
   "source": [
    "# data.keys()\n",
    "new = {'features':[],'type':data['type']}\n",
    "fraction=36432/10\n",
    "for i in range(10):\n",
    "    fraction_needed_start=math.floor(fraction*i)\n",
    "    fraction_needed_end=math.floor(fraction*(i)+1)\n",
    "    file_name = 'work/output/fraction' + str(i) + '.geojson'\n",
    "    for feature in data['features'][fraction_needed_start:fraction_needed_end]:\n",
    "        new['features'].append(feature)\n",
    "    with open(file_name, 'w') as outfile:\n",
    "        json.dump(new, outfile)"
   ]
  },
  {
   "cell_type": "code",
   "execution_count": 11,
   "metadata": {},
   "outputs": [
    {
     "name": "stdout",
     "output_type": "stream",
     "text": [
      "{'features': [{'type': 'Feature', 'properties': {'NAME': 'TORSHAVN'}, 'geometry': {'type': 'Polygon', 'coordinates': [[[-6.758638858795166, 62.015167236328125], [-6.761841773986816, 62.01527786254883], [-6.770943164825439, 62.00592041015625], [-6.782127857208252, 62.010581970214844], [-6.78955078125, 62.01056671142578], [-6.780142307281494, 62.01683807373047], [-6.780078887939453, 62.02488708496094], [-6.780065536499023, 62.02656936645508], [-6.768764495849609, 62.02220916748047], [-6.758407592773438, 62.02336120605469], [-6.755340099334717, 62.01801300048828], [-6.758638858795166, 62.015167236328125]]]}}, {'type': 'Feature', 'properties': {'NAME': 'LERWICK'}, 'geometry': {'type': 'Polygon', 'coordinates': [[[-1.164463996887207, 60.1639518737793], [-1.161681413650513, 60.16221237182617], [-1.158942580223083, 60.16246795654297], [-1.157277822494507, 60.16261291503906], [-1.153429508209229, 60.15964889526367], [-1.144952654838562, 60.153099060058594], [-1.145463943481445, 60.152469635009766], [-1.149541258811951, 60.147483825683594], [-1.1519935131073, 60.14802932739258], [-1.163461565971375, 60.150577545166016], [-1.165762066841125, 60.15184783935547], [-1.169224143028259, 60.15375900268555], [-1.174425840377808, 60.160823822021484], [-1.176525712013245, 60.16367721557617], [-1.174523711204529, 60.17021942138672], [-1.164463996887207, 60.1639518737793]]]}}, {'type': 'Feature', 'properties': {'NAME': 'HONNINGSVAG'}, 'geometry': {'type': 'Polygon', 'coordinates': [[[26.00775909423828, 70.9737319946289], [25.995418548583984, 70.97483825683594], [25.977985382080078, 70.9792709350586], [25.9851131439209, 70.98641967773438], [25.991409301757812, 70.99272918701172], [26.009157180786133, 70.99012756347656], [26.009538650512695, 70.9881362915039], [26.010648727416992, 70.98233032226562], [26.018632888793945, 70.97990417480469], [26.016937255859375, 70.97612762451172], [26.007783889770508, 70.97373962402344], [26.00775909423828, 70.9737319946289]]]}}], 'type': 'FeatureCollection'}\n"
     ]
    }
   ],
   "source": [
    "print(new)"
   ]
  },
  {
   "cell_type": "code",
   "execution_count": 20,
   "metadata": {},
   "outputs": [
    {
     "name": "stdout",
     "output_type": "stream",
     "text": [
      "0\n",
      "1\n",
      "2\n",
      "3\n",
      "4\n",
      "5\n",
      "6\n",
      "7\n",
      "8\n",
      "9\n"
     ]
    }
   ],
   "source": [
    "\n"
   ]
  },
  {
   "cell_type": "code",
   "execution_count": null,
   "metadata": {},
   "outputs": [],
   "source": []
  }
 ],
 "metadata": {
  "kernelspec": {
   "display_name": "Python 3",
   "language": "python",
   "name": "python3"
  },
  "language_info": {
   "codemirror_mode": {
    "name": "ipython",
    "version": 3
   },
   "file_extension": ".py",
   "mimetype": "text/x-python",
   "name": "python",
   "nbconvert_exporter": "python",
   "pygments_lexer": "ipython3",
   "version": "3.7.6"
  }
 },
 "nbformat": 4,
 "nbformat_minor": 4
}
